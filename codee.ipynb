{
 "cells": [
  {
   "cell_type": "markdown",
   "metadata": {},
   "source": [
    "\n",
    "## MODEL SELECTION AND METRICS"
   ]
  },
  {
   "cell_type": "code",
   "execution_count": 29,
   "metadata": {},
   "outputs": [],
   "source": [
    "import pandas as pd\n",
    "import numpy as np\n",
    "import matplotlib.pyplot as plt\n",
    "import seaborn as sns"
   ]
  },
  {
   "cell_type": "code",
   "execution_count": 30,
   "metadata": {},
   "outputs": [
    {
     "name": "stdout",
     "output_type": "stream",
     "text": [
      "Requirement already satisfied: xlrd in c:\\users\\vaibhavi\\anaconda3\\lib\\site-packages (2.0.1)\n",
      "Note: you may need to restart the kernel to use updated packages.\n"
     ]
    }
   ],
   "source": [
    "pip install xlrd"
   ]
  },
  {
   "cell_type": "code",
   "execution_count": 33,
   "metadata": {},
   "outputs": [
    {
     "name": "stdout",
     "output_type": "stream",
     "text": [
      "      gender  age    height      weight family_history_with_overweight  \\\n",
      "0     Female   21  1.620000   64.000000                            yes   \n",
      "1     Female   21  1.520000   56.000000                            yes   \n",
      "2       Male   23  1.800000   77.000000                            yes   \n",
      "3       Male   27  1.800000   87.000000                             no   \n",
      "4       Male   22  1.780000   89.800000                             no   \n",
      "...      ...  ...       ...         ...                            ...   \n",
      "2106  Female   21  1.710730  131.408528                            yes   \n",
      "2107  Female   22  1.748584  133.742943                            yes   \n",
      "2108  Female   23  1.752206  133.689352                            yes   \n",
      "2109  Female   24  1.739450  133.346641                            yes   \n",
      "2110  Female   24  1.738836  133.472641                            yes   \n",
      "\n",
      "     caloric_food  vegetables  number_meals  food_between_meals smoke  water  \\\n",
      "0              no           2           3.0                   2    no      2   \n",
      "1              no           3           3.0                   2   yes      3   \n",
      "2              no           2           3.0                   2    no      2   \n",
      "3              no           3           3.0                   2    no      2   \n",
      "4              no           2           1.0                   2    no      2   \n",
      "...           ...         ...           ...                 ...   ...    ...   \n",
      "2106          yes           3           3.0                   2    no      2   \n",
      "2107          yes           3           3.0                   2    no      2   \n",
      "2108          yes           3           3.0                   2    no      2   \n",
      "2109          yes           3           3.0                   2    no      3   \n",
      "2110          yes           3           3.0                   2    no      3   \n",
      "\n",
      "     calories  activity  technology  alcohol         transportation  \\\n",
      "0          no         0           1        1  public_transportation   \n",
      "1         yes         3           0        2  public_transportation   \n",
      "2          no         2           1        3  public_transportation   \n",
      "3          no         2           0        3                walking   \n",
      "4          no         0           0        2  public_transportation   \n",
      "...       ...       ...         ...      ...                    ...   \n",
      "2106       no         2           1        2  public_transportation   \n",
      "2107       no         1           1        2  public_transportation   \n",
      "2108       no         1           1        2  public_transportation   \n",
      "2109       no         1           1        2  public_transportation   \n",
      "2110       no         1           1        2  public_transportation   \n",
      "\n",
      "      obesity_level  \n",
      "0                 2  \n",
      "1                 2  \n",
      "2                 2  \n",
      "3                 3  \n",
      "4                 4  \n",
      "...             ...  \n",
      "2106              7  \n",
      "2107              7  \n",
      "2108              7  \n",
      "2109              7  \n",
      "2110              7  \n",
      "\n",
      "[2111 rows x 17 columns]\n"
     ]
    }
   ],
   "source": [
    "df=pd.read_csv(r\"C:\\Users\\vaibhavi\\OneDrive\\Desktop\\New folder (2)\\ObesityDataSet2.csv.xls\")#, engine='xlrd')\n",
    "#df = df.fillna(0)\n",
    "print(df)"
   ]
  },
  {
   "cell_type": "code",
   "execution_count": 34,
   "metadata": {},
   "outputs": [
    {
     "data": {
      "text/html": [
       "<div>\n",
       "<style scoped>\n",
       "    .dataframe tbody tr th:only-of-type {\n",
       "        vertical-align: middle;\n",
       "    }\n",
       "\n",
       "    .dataframe tbody tr th {\n",
       "        vertical-align: top;\n",
       "    }\n",
       "\n",
       "    .dataframe thead th {\n",
       "        text-align: right;\n",
       "    }\n",
       "</style>\n",
       "<table border=\"1\" class=\"dataframe\">\n",
       "  <thead>\n",
       "    <tr style=\"text-align: right;\">\n",
       "      <th></th>\n",
       "      <th>gender</th>\n",
       "      <th>age</th>\n",
       "      <th>height</th>\n",
       "      <th>weight</th>\n",
       "      <th>family_history_with_overweight</th>\n",
       "      <th>caloric_food</th>\n",
       "      <th>vegetables</th>\n",
       "      <th>number_meals</th>\n",
       "      <th>food_between_meals</th>\n",
       "      <th>smoke</th>\n",
       "      <th>water</th>\n",
       "      <th>calories</th>\n",
       "      <th>activity</th>\n",
       "      <th>technology</th>\n",
       "      <th>alcohol</th>\n",
       "      <th>transportation</th>\n",
       "      <th>obesity_level</th>\n",
       "    </tr>\n",
       "  </thead>\n",
       "  <tbody>\n",
       "    <tr>\n",
       "      <th>0</th>\n",
       "      <td>0</td>\n",
       "      <td>21</td>\n",
       "      <td>1.62</td>\n",
       "      <td>64.0</td>\n",
       "      <td>1</td>\n",
       "      <td>0</td>\n",
       "      <td>2</td>\n",
       "      <td>3.0</td>\n",
       "      <td>2</td>\n",
       "      <td>0</td>\n",
       "      <td>2</td>\n",
       "      <td>0</td>\n",
       "      <td>0</td>\n",
       "      <td>1</td>\n",
       "      <td>1</td>\n",
       "      <td>3</td>\n",
       "      <td>2</td>\n",
       "    </tr>\n",
       "    <tr>\n",
       "      <th>1</th>\n",
       "      <td>0</td>\n",
       "      <td>21</td>\n",
       "      <td>1.52</td>\n",
       "      <td>56.0</td>\n",
       "      <td>1</td>\n",
       "      <td>0</td>\n",
       "      <td>3</td>\n",
       "      <td>3.0</td>\n",
       "      <td>2</td>\n",
       "      <td>1</td>\n",
       "      <td>3</td>\n",
       "      <td>1</td>\n",
       "      <td>3</td>\n",
       "      <td>0</td>\n",
       "      <td>2</td>\n",
       "      <td>3</td>\n",
       "      <td>2</td>\n",
       "    </tr>\n",
       "    <tr>\n",
       "      <th>2</th>\n",
       "      <td>1</td>\n",
       "      <td>23</td>\n",
       "      <td>1.80</td>\n",
       "      <td>77.0</td>\n",
       "      <td>1</td>\n",
       "      <td>0</td>\n",
       "      <td>2</td>\n",
       "      <td>3.0</td>\n",
       "      <td>2</td>\n",
       "      <td>0</td>\n",
       "      <td>2</td>\n",
       "      <td>0</td>\n",
       "      <td>2</td>\n",
       "      <td>1</td>\n",
       "      <td>3</td>\n",
       "      <td>3</td>\n",
       "      <td>2</td>\n",
       "    </tr>\n",
       "    <tr>\n",
       "      <th>3</th>\n",
       "      <td>1</td>\n",
       "      <td>27</td>\n",
       "      <td>1.80</td>\n",
       "      <td>87.0</td>\n",
       "      <td>0</td>\n",
       "      <td>0</td>\n",
       "      <td>3</td>\n",
       "      <td>3.0</td>\n",
       "      <td>2</td>\n",
       "      <td>0</td>\n",
       "      <td>2</td>\n",
       "      <td>0</td>\n",
       "      <td>2</td>\n",
       "      <td>0</td>\n",
       "      <td>3</td>\n",
       "      <td>4</td>\n",
       "      <td>3</td>\n",
       "    </tr>\n",
       "    <tr>\n",
       "      <th>4</th>\n",
       "      <td>1</td>\n",
       "      <td>22</td>\n",
       "      <td>1.78</td>\n",
       "      <td>89.8</td>\n",
       "      <td>0</td>\n",
       "      <td>0</td>\n",
       "      <td>2</td>\n",
       "      <td>1.0</td>\n",
       "      <td>2</td>\n",
       "      <td>0</td>\n",
       "      <td>2</td>\n",
       "      <td>0</td>\n",
       "      <td>0</td>\n",
       "      <td>0</td>\n",
       "      <td>2</td>\n",
       "      <td>3</td>\n",
       "      <td>4</td>\n",
       "    </tr>\n",
       "  </tbody>\n",
       "</table>\n",
       "</div>"
      ],
      "text/plain": [
       "   gender  age  height  weight  family_history_with_overweight  caloric_food  \\\n",
       "0       0   21    1.62    64.0                               1             0   \n",
       "1       0   21    1.52    56.0                               1             0   \n",
       "2       1   23    1.80    77.0                               1             0   \n",
       "3       1   27    1.80    87.0                               0             0   \n",
       "4       1   22    1.78    89.8                               0             0   \n",
       "\n",
       "   vegetables  number_meals  food_between_meals  smoke  water  calories  \\\n",
       "0           2           3.0                   2      0      2         0   \n",
       "1           3           3.0                   2      1      3         1   \n",
       "2           2           3.0                   2      0      2         0   \n",
       "3           3           3.0                   2      0      2         0   \n",
       "4           2           1.0                   2      0      2         0   \n",
       "\n",
       "   activity  technology  alcohol  transportation  obesity_level  \n",
       "0         0           1        1               3              2  \n",
       "1         3           0        2               3              2  \n",
       "2         2           1        3               3              2  \n",
       "3         2           0        3               4              3  \n",
       "4         0           0        2               3              4  "
      ]
     },
     "execution_count": 34,
     "metadata": {},
     "output_type": "execute_result"
    }
   ],
   "source": [
    "\n",
    "from sklearn import preprocessing\n",
    "\n",
    "#Label Encoding\n",
    "LE= preprocessing.LabelEncoder()\n",
    "\n",
    "# Fitting it to our dataset\n",
    "df.gender = LE.fit_transform(df.gender)\n",
    "df.family_history_with_overweight = LE.fit_transform(df.family_history_with_overweight)\n",
    "df.caloric_food = LE.fit_transform(df.caloric_food)\n",
    "df.smoke = LE.fit_transform(df.smoke)\n",
    "df.calories = LE.fit_transform(df.calories)\n",
    "df.transportation = LE.fit_transform(df.transportation)\n",
    "df.head()"
   ]
  },
  {
   "cell_type": "code",
   "execution_count": 35,
   "metadata": {},
   "outputs": [
    {
     "data": {
      "text/plain": [
       "gender                              int32\n",
       "age                                 int64\n",
       "height                            float64\n",
       "weight                            float64\n",
       "family_history_with_overweight      int32\n",
       "caloric_food                        int32\n",
       "vegetables                          int64\n",
       "number_meals                      float64\n",
       "food_between_meals                  int64\n",
       "smoke                               int32\n",
       "water                               int64\n",
       "calories                            int32\n",
       "activity                            int64\n",
       "technology                          int64\n",
       "alcohol                             int64\n",
       "transportation                      int32\n",
       "obesity_level                       int64\n",
       "dtype: object"
      ]
     },
     "execution_count": 35,
     "metadata": {},
     "output_type": "execute_result"
    }
   ],
   "source": [
    "df.dtypes"
   ]
  },
  {
   "cell_type": "code",
   "execution_count": 36,
   "metadata": {},
   "outputs": [],
   "source": [
    "import pandas as pd\n",
    "import numpy as np\n",
    "from sklearn.metrics import classification_report\n",
    "from sklearn.metrics import confusion_matrix\n",
    "from sklearn.model_selection import train_test_split\n",
    "from sklearn.tree import DecisionTreeClassifier,export_text"
   ]
  },
  {
   "cell_type": "code",
   "execution_count": 37,
   "metadata": {},
   "outputs": [],
   "source": [
    "df = df.fillna(0)"
   ]
  },
  {
   "cell_type": "code",
   "execution_count": 38,
   "metadata": {},
   "outputs": [],
   "source": [
    "x=df.drop('obesity_level',axis=1)\n",
    "y=df['obesity_level']\n",
    "x_train,x_test,y_train,y_test=train_test_split(x,y,test_size=0.3)"
   ]
  },
  {
   "cell_type": "code",
   "execution_count": 39,
   "metadata": {},
   "outputs": [
    {
     "data": {
      "text/html": [
       "<div>\n",
       "<style scoped>\n",
       "    .dataframe tbody tr th:only-of-type {\n",
       "        vertical-align: middle;\n",
       "    }\n",
       "\n",
       "    .dataframe tbody tr th {\n",
       "        vertical-align: top;\n",
       "    }\n",
       "\n",
       "    .dataframe thead th {\n",
       "        text-align: right;\n",
       "    }\n",
       "</style>\n",
       "<table border=\"1\" class=\"dataframe\">\n",
       "  <thead>\n",
       "    <tr style=\"text-align: right;\">\n",
       "      <th></th>\n",
       "      <th>gender</th>\n",
       "      <th>age</th>\n",
       "      <th>height</th>\n",
       "      <th>weight</th>\n",
       "      <th>family_history_with_overweight</th>\n",
       "      <th>caloric_food</th>\n",
       "      <th>vegetables</th>\n",
       "      <th>number_meals</th>\n",
       "      <th>food_between_meals</th>\n",
       "      <th>smoke</th>\n",
       "      <th>water</th>\n",
       "      <th>calories</th>\n",
       "      <th>activity</th>\n",
       "      <th>technology</th>\n",
       "      <th>alcohol</th>\n",
       "      <th>transportation</th>\n",
       "    </tr>\n",
       "  </thead>\n",
       "  <tbody>\n",
       "    <tr>\n",
       "      <th>934</th>\n",
       "      <td>1</td>\n",
       "      <td>20</td>\n",
       "      <td>1.834715</td>\n",
       "      <td>89.429199</td>\n",
       "      <td>1</td>\n",
       "      <td>1</td>\n",
       "      <td>2</td>\n",
       "      <td>4.0</td>\n",
       "      <td>2</td>\n",
       "      <td>0</td>\n",
       "      <td>3</td>\n",
       "      <td>0</td>\n",
       "      <td>2</td>\n",
       "      <td>0</td>\n",
       "      <td>2</td>\n",
       "      <td>3</td>\n",
       "    </tr>\n",
       "    <tr>\n",
       "      <th>692</th>\n",
       "      <td>1</td>\n",
       "      <td>18</td>\n",
       "      <td>1.767058</td>\n",
       "      <td>51.132809</td>\n",
       "      <td>1</td>\n",
       "      <td>1</td>\n",
       "      <td>3</td>\n",
       "      <td>3.0</td>\n",
       "      <td>2</td>\n",
       "      <td>0</td>\n",
       "      <td>2</td>\n",
       "      <td>0</td>\n",
       "      <td>1</td>\n",
       "      <td>1</td>\n",
       "      <td>2</td>\n",
       "      <td>3</td>\n",
       "    </tr>\n",
       "    <tr>\n",
       "      <th>887</th>\n",
       "      <td>1</td>\n",
       "      <td>19</td>\n",
       "      <td>1.813567</td>\n",
       "      <td>86.144904</td>\n",
       "      <td>1</td>\n",
       "      <td>1</td>\n",
       "      <td>3</td>\n",
       "      <td>4.0</td>\n",
       "      <td>2</td>\n",
       "      <td>0</td>\n",
       "      <td>2</td>\n",
       "      <td>0</td>\n",
       "      <td>2</td>\n",
       "      <td>0</td>\n",
       "      <td>2</td>\n",
       "      <td>3</td>\n",
       "    </tr>\n",
       "    <tr>\n",
       "      <th>315</th>\n",
       "      <td>1</td>\n",
       "      <td>26</td>\n",
       "      <td>1.700000</td>\n",
       "      <td>72.000000</td>\n",
       "      <td>0</td>\n",
       "      <td>1</td>\n",
       "      <td>2</td>\n",
       "      <td>3.0</td>\n",
       "      <td>4</td>\n",
       "      <td>0</td>\n",
       "      <td>2</td>\n",
       "      <td>0</td>\n",
       "      <td>0</td>\n",
       "      <td>0</td>\n",
       "      <td>2</td>\n",
       "      <td>3</td>\n",
       "    </tr>\n",
       "    <tr>\n",
       "      <th>234</th>\n",
       "      <td>0</td>\n",
       "      <td>19</td>\n",
       "      <td>1.590000</td>\n",
       "      <td>49.000000</td>\n",
       "      <td>1</td>\n",
       "      <td>1</td>\n",
       "      <td>2</td>\n",
       "      <td>1.0</td>\n",
       "      <td>1</td>\n",
       "      <td>0</td>\n",
       "      <td>2</td>\n",
       "      <td>0</td>\n",
       "      <td>2</td>\n",
       "      <td>0</td>\n",
       "      <td>1</td>\n",
       "      <td>3</td>\n",
       "    </tr>\n",
       "  </tbody>\n",
       "</table>\n",
       "</div>"
      ],
      "text/plain": [
       "     gender  age    height     weight  family_history_with_overweight  \\\n",
       "934       1   20  1.834715  89.429199                               1   \n",
       "692       1   18  1.767058  51.132809                               1   \n",
       "887       1   19  1.813567  86.144904                               1   \n",
       "315       1   26  1.700000  72.000000                               0   \n",
       "234       0   19  1.590000  49.000000                               1   \n",
       "\n",
       "     caloric_food  vegetables  number_meals  food_between_meals  smoke  water  \\\n",
       "934             1           2           4.0                   2      0      3   \n",
       "692             1           3           3.0                   2      0      2   \n",
       "887             1           3           4.0                   2      0      2   \n",
       "315             1           2           3.0                   4      0      2   \n",
       "234             1           2           1.0                   1      0      2   \n",
       "\n",
       "     calories  activity  technology  alcohol  transportation  \n",
       "934         0         2           0        2               3  \n",
       "692         0         1           1        2               3  \n",
       "887         0         2           0        2               3  \n",
       "315         0         0           0        2               3  \n",
       "234         0         2           0        1               3  "
      ]
     },
     "execution_count": 39,
     "metadata": {},
     "output_type": "execute_result"
    }
   ],
   "source": [
    "x_train.head()"
   ]
  },
  {
   "cell_type": "markdown",
   "metadata": {},
   "source": [
    "# decusion tree classifier"
   ]
  },
  {
   "cell_type": "code",
   "execution_count": 40,
   "metadata": {},
   "outputs": [
    {
     "name": "stdout",
     "output_type": "stream",
     "text": [
      "|--- feature_3 <= 99.92\n",
      "|   |--- feature_3 <= 60.06\n",
      "|   |   |--- feature_2 <= 1.66\n",
      "|   |   |   |--- class: 2\n",
      "|   |   |--- feature_2 >  1.66\n",
      "|   |   |   |--- class: 1\n",
      "|   |--- feature_3 >  60.06\n",
      "|   |   |--- feature_3 <= 76.04\n",
      "|   |   |   |--- class: 3\n",
      "|   |   |--- feature_3 >  76.04\n",
      "|   |   |   |--- class: 5\n",
      "|--- feature_3 >  99.92\n",
      "|   |--- feature_0 <= 0.50\n",
      "|   |   |--- feature_13 <= 1.50\n",
      "|   |   |   |--- class: 7\n",
      "|   |   |--- feature_13 >  1.50\n",
      "|   |   |   |--- class: 6\n",
      "|   |--- feature_0 >  0.50\n",
      "|   |   |--- feature_3 <= 110.36\n",
      "|   |   |   |--- class: 5\n",
      "|   |   |--- feature_3 >  110.36\n",
      "|   |   |   |--- class: 6\n",
      "\n",
      "              precision    recall  f1-score   support\n",
      "\n",
      "           1       0.94      0.63      0.75        73\n",
      "           2       0.54      0.39      0.45        87\n",
      "           3       0.47      0.60      0.53        94\n",
      "           4       0.00      0.00      0.00        86\n",
      "           5       0.43      0.92      0.59       105\n",
      "           6       0.87      0.77      0.82        79\n",
      "           7       1.00      0.99      1.00       110\n",
      "\n",
      "    accuracy                           0.64       634\n",
      "   macro avg       0.61      0.61      0.59       634\n",
      "weighted avg       0.61      0.64      0.60       634\n",
      "\n",
      "[[ 46  25   2   0   0   0   0]\n",
      " [  3  34  47   0   3   0   0]\n",
      " [  0   4  56   0  34   0   0]\n",
      " [  0   0  13   0  73   0   0]\n",
      " [  0   0   0   0  97   8   0]\n",
      " [  0   0   0   0  18  61   0]\n",
      " [  0   0   0   0   0   1 109]]\n"
     ]
    },
    {
     "name": "stderr",
     "output_type": "stream",
     "text": [
      "c:\\Users\\vaibhavi\\anaconda3\\lib\\site-packages\\sklearn\\metrics\\_classification.py:1469: UndefinedMetricWarning: Precision and F-score are ill-defined and being set to 0.0 in labels with no predicted samples. Use `zero_division` parameter to control this behavior.\n",
      "  _warn_prf(average, modifier, msg_start, len(result))\n",
      "c:\\Users\\vaibhavi\\anaconda3\\lib\\site-packages\\sklearn\\metrics\\_classification.py:1469: UndefinedMetricWarning: Precision and F-score are ill-defined and being set to 0.0 in labels with no predicted samples. Use `zero_division` parameter to control this behavior.\n",
      "  _warn_prf(average, modifier, msg_start, len(result))\n",
      "c:\\Users\\vaibhavi\\anaconda3\\lib\\site-packages\\sklearn\\metrics\\_classification.py:1469: UndefinedMetricWarning: Precision and F-score are ill-defined and being set to 0.0 in labels with no predicted samples. Use `zero_division` parameter to control this behavior.\n",
      "  _warn_prf(average, modifier, msg_start, len(result))\n"
     ]
    }
   ],
   "source": [
    "model=DecisionTreeClassifier(random_state=0,max_depth=3)\n",
    "s=model.fit(x_train,y_train)\n",
    "s1=export_text(s)\n",
    "print(s1)\n",
    "pred=model.predict(x_test)\n",
    "print(classification_report(y_test,pred))\n",
    "print(confusion_matrix(y_test,pred))"
   ]
  },
  {
   "cell_type": "code",
   "execution_count": 41,
   "metadata": {},
   "outputs": [
    {
     "name": "stdout",
     "output_type": "stream",
     "text": [
      "Accuracy:  63.56466876971609\n"
     ]
    }
   ],
   "source": [
    "from sklearn.metrics import accuracy_score\n",
    "print(\"Accuracy: \",accuracy_score(y_test,pred)*100)"
   ]
  },
  {
   "cell_type": "markdown",
   "metadata": {},
   "source": [
    "# randomforest classifier"
   ]
  },
  {
   "cell_type": "code",
   "execution_count": null,
   "metadata": {},
   "outputs": [],
   "source": [
    "df.fillna(999, inplace=True)"
   ]
  },
  {
   "cell_type": "code",
   "execution_count": 42,
   "metadata": {},
   "outputs": [
    {
     "name": "stdout",
     "output_type": "stream",
     "text": [
      "accuracy: 64.66876971608832\n",
      "              precision    recall  f1-score   support\n",
      "\n",
      "           1       0.72      0.84      0.77        73\n",
      "           2       0.62      0.43      0.50        87\n",
      "           3       0.70      0.46      0.55        94\n",
      "           4       0.60      0.44      0.51        86\n",
      "           5       0.62      0.44      0.51       105\n",
      "           6       0.54      0.96      0.69        79\n",
      "           7       0.73      0.99      0.84       110\n",
      "\n",
      "    accuracy                           0.65       634\n",
      "   macro avg       0.65      0.65      0.63       634\n",
      "weighted avg       0.65      0.65      0.63       634\n",
      "\n"
     ]
    }
   ],
   "source": [
    "from sklearn.ensemble import RandomForestClassifier\n",
    "model_rf=RandomForestClassifier(class_weight='balanced',random_state=1,max_depth=5,\\\n",
    "                                n_estimators=10,max_features=1)\n",
    "np.any(np.isfinite(x_test))\n",
    "model_rf.fit(x_train,y_train)\n",
    "#np.all(np.isfinite(x_test))\n",
    "pred=model_rf.predict(x_test)\n",
    "print(\"accuracy:\",accuracy_score(y_test,pred)*100)\n",
    "print(classification_report(y_test,pred))"
   ]
  },
  {
   "cell_type": "code",
   "execution_count": 43,
   "metadata": {},
   "outputs": [
    {
     "name": "stdout",
     "output_type": "stream",
     "text": [
      "accuracy: 64.66876971608832\n"
     ]
    }
   ],
   "source": [
    "from sklearn.metrics import accuracy_score\n",
    "print(\"accuracy:\",accuracy_score(y_test,pred)*100)"
   ]
  },
  {
   "cell_type": "markdown",
   "metadata": {},
   "source": [
    "# adaboost classifier"
   ]
  },
  {
   "cell_type": "code",
   "execution_count": 44,
   "metadata": {},
   "outputs": [
    {
     "name": "stdout",
     "output_type": "stream",
     "text": [
      "accuracy: 30.5993690851735\n",
      "              precision    recall  f1-score   support\n",
      "\n",
      "           1       0.00      0.00      0.00        73\n",
      "           2       0.33      0.43      0.37        87\n",
      "           3       0.46      0.54      0.50        94\n",
      "           4       0.12      0.01      0.02        86\n",
      "           5       0.26      1.00      0.41       105\n",
      "           6       0.00      0.00      0.00        79\n",
      "           7       0.00      0.00      0.00       110\n",
      "\n",
      "    accuracy                           0.31       634\n",
      "   macro avg       0.17      0.28      0.19       634\n",
      "weighted avg       0.17      0.31      0.20       634\n",
      "\n"
     ]
    },
    {
     "name": "stderr",
     "output_type": "stream",
     "text": [
      "c:\\Users\\vaibhavi\\anaconda3\\lib\\site-packages\\sklearn\\metrics\\_classification.py:1469: UndefinedMetricWarning: Precision and F-score are ill-defined and being set to 0.0 in labels with no predicted samples. Use `zero_division` parameter to control this behavior.\n",
      "  _warn_prf(average, modifier, msg_start, len(result))\n",
      "c:\\Users\\vaibhavi\\anaconda3\\lib\\site-packages\\sklearn\\metrics\\_classification.py:1469: UndefinedMetricWarning: Precision and F-score are ill-defined and being set to 0.0 in labels with no predicted samples. Use `zero_division` parameter to control this behavior.\n",
      "  _warn_prf(average, modifier, msg_start, len(result))\n",
      "c:\\Users\\vaibhavi\\anaconda3\\lib\\site-packages\\sklearn\\metrics\\_classification.py:1469: UndefinedMetricWarning: Precision and F-score are ill-defined and being set to 0.0 in labels with no predicted samples. Use `zero_division` parameter to control this behavior.\n",
      "  _warn_prf(average, modifier, msg_start, len(result))\n"
     ]
    }
   ],
   "source": [
    "from sklearn.ensemble import AdaBoostClassifier\n",
    "model_ada=AdaBoostClassifier(learning_rate=0.01)\n",
    "model_ada.fit(x_train,y_train)\n",
    "pred=model_ada.predict(x_test)\n",
    "print(\"accuracy:\",accuracy_score(y_test,pred)*100)\n",
    "print(classification_report(y_test,pred))"
   ]
  }
 ],
 "metadata": {
  "kernelspec": {
   "display_name": "Python 3",
   "language": "python",
   "name": "python3"
  },
  "language_info": {
   "codemirror_mode": {
    "name": "ipython",
    "version": 3
   },
   "file_extension": ".py",
   "mimetype": "text/x-python",
   "name": "python",
   "nbconvert_exporter": "python",
   "pygments_lexer": "ipython3",
   "version": "3.9.13"
  }
 },
 "nbformat": 4,
 "nbformat_minor": 4
}
